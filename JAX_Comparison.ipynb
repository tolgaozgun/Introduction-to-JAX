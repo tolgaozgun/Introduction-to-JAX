{
  "nbformat": 4,
  "nbformat_minor": 0,
  "metadata": {
    "colab": {
      "provenance": [],
      "gpuType": "T4"
    },
    "kernelspec": {
      "name": "python3",
      "display_name": "Python 3"
    },
    "language_info": {
      "name": "python"
    },
    "accelerator": "GPU"
  },
  "cells": [
    {
      "cell_type": "markdown",
      "source": [
        "**Setup**\n",
        "\n",
        "Here we import the required libraries.\n",
        "\n",
        "Then we set the seed so the results are similar between runs.**bold text**"
      ],
      "metadata": {
        "id": "TmzhmyREzPVq"
      }
    },
    {
      "cell_type": "code",
      "execution_count": 32,
      "metadata": {
        "id": "dj4xltFmn3Pd"
      },
      "outputs": [],
      "source": [
        "# Import necessary libraries\n",
        "import numpy as np\n",
        "import pandas as pd\n",
        "import jax.numpy as jnp\n",
        "from jax import random, jit\n",
        "import timeit\n",
        "\n",
        "# Set random seed for reproducibility\n",
        "np.random.seed(42)\n",
        "key = random.PRNGKey(42)"
      ]
    },
    {
      "cell_type": "markdown",
      "source": [
        "Define the dataset"
      ],
      "metadata": {
        "id": "0Vblvvy_zY2E"
      }
    },
    {
      "cell_type": "code",
      "source": [
        "# Generate random data\n",
        "size = 1000000\n",
        "data = {\n",
        "    'A': np.random.rand(size),\n",
        "    'B': np.random.randn(size),\n",
        "    'C': np.random.randint(0, 2, size),\n",
        "}"
      ],
      "metadata": {
        "id": "HveQTaLGzZW1"
      },
      "execution_count": 33,
      "outputs": []
    },
    {
      "cell_type": "markdown",
      "source": [
        "Perform the numpy operation"
      ],
      "metadata": {
        "id": "57oeuYAe0LxB"
      }
    },
    {
      "cell_type": "code",
      "source": [
        "# NumPy operations\n",
        "def numpy_operations(data):\n",
        "    a = np.sum(data['A'])\n",
        "    b = np.mean(data['B'])\n",
        "    c = np.max(data['C'])\n",
        "    return a, b, c\n",
        "\n",
        "# Time the operations and compare results\n",
        "numpy_time = timeit.timeit(lambda: numpy_operations(data), number=100)"
      ],
      "metadata": {
        "id": "rNYwv12J0MC_"
      },
      "execution_count": 34,
      "outputs": []
    },
    {
      "cell_type": "markdown",
      "source": [
        "Perform the same operation on Pandas"
      ],
      "metadata": {
        "id": "pEKSaCqq0QrW"
      }
    },
    {
      "cell_type": "code",
      "source": [
        "# Pandas operations\n",
        "def pandas_operations(data):\n",
        "    df = pd.DataFrame(data)\n",
        "    a = df['A'].sum()\n",
        "    b = df['B'].mean()\n",
        "    c = df['C'].max()\n",
        "    return a, b, c\n",
        "\n",
        "pandas_time = timeit.timeit(lambda: pandas_operations(data), number=100)"
      ],
      "metadata": {
        "id": "nquimkgY0Q9y"
      },
      "execution_count": 35,
      "outputs": []
    },
    {
      "cell_type": "markdown",
      "source": [
        "Perform the same operation on JAX"
      ],
      "metadata": {
        "id": "fhMw3ZQg0UUp"
      }
    },
    {
      "cell_type": "code",
      "source": [
        "# JAX operations\n",
        "def jax_operations(data):\n",
        "    a = jnp.sum(data['A'])\n",
        "    b = jnp.mean(data['B'])\n",
        "    c = jnp.max(data['C'])\n",
        "    return a, b, c\n",
        "jax_time = timeit.timeit(lambda: jax_operations(data), number=100)\n"
      ],
      "metadata": {
        "id": "1TM5ekdI0UiV"
      },
      "execution_count": 36,
      "outputs": []
    },
    {
      "cell_type": "markdown",
      "source": [],
      "metadata": {
        "id": "D0O0UiVp2A3u"
      }
    },
    {
      "cell_type": "code",
      "source": [
        "# Display timing results\n",
        "time_df = pd.DataFrame({\n",
        "    'Operation': ['Total time'],\n",
        "    'NumPy': numpy_time,\n",
        "    'Pandas': pandas_time,\n",
        "    'JAX': jax_time,\n",
        "})\n",
        "\n",
        "time_df"
      ],
      "metadata": {
        "colab": {
          "base_uri": "https://localhost:8080/",
          "height": 81
        },
        "id": "H5ZfUf-b1-AP",
        "outputId": "adb27df1-0b9d-4ad5-b9d7-02a0bf05e464"
      },
      "execution_count": 37,
      "outputs": [
        {
          "output_type": "execute_result",
          "data": {
            "text/plain": [
              "    Operation     NumPy    Pandas       JAX\n",
              "0  Total time  0.182291  0.875292  0.430037"
            ],
            "text/html": [
              "\n",
              "  <div id=\"df-ef2e9bca-a600-4fd6-b226-286d8ca5754d\" class=\"colab-df-container\">\n",
              "    <div>\n",
              "<style scoped>\n",
              "    .dataframe tbody tr th:only-of-type {\n",
              "        vertical-align: middle;\n",
              "    }\n",
              "\n",
              "    .dataframe tbody tr th {\n",
              "        vertical-align: top;\n",
              "    }\n",
              "\n",
              "    .dataframe thead th {\n",
              "        text-align: right;\n",
              "    }\n",
              "</style>\n",
              "<table border=\"1\" class=\"dataframe\">\n",
              "  <thead>\n",
              "    <tr style=\"text-align: right;\">\n",
              "      <th></th>\n",
              "      <th>Operation</th>\n",
              "      <th>NumPy</th>\n",
              "      <th>Pandas</th>\n",
              "      <th>JAX</th>\n",
              "    </tr>\n",
              "  </thead>\n",
              "  <tbody>\n",
              "    <tr>\n",
              "      <th>0</th>\n",
              "      <td>Total time</td>\n",
              "      <td>0.182291</td>\n",
              "      <td>0.875292</td>\n",
              "      <td>0.430037</td>\n",
              "    </tr>\n",
              "  </tbody>\n",
              "</table>\n",
              "</div>\n",
              "    <div class=\"colab-df-buttons\">\n",
              "\n",
              "  <div class=\"colab-df-container\">\n",
              "    <button class=\"colab-df-convert\" onclick=\"convertToInteractive('df-ef2e9bca-a600-4fd6-b226-286d8ca5754d')\"\n",
              "            title=\"Convert this dataframe to an interactive table.\"\n",
              "            style=\"display:none;\">\n",
              "\n",
              "  <svg xmlns=\"http://www.w3.org/2000/svg\" height=\"24px\" viewBox=\"0 -960 960 960\">\n",
              "    <path d=\"M120-120v-720h720v720H120Zm60-500h600v-160H180v160Zm220 220h160v-160H400v160Zm0 220h160v-160H400v160ZM180-400h160v-160H180v160Zm440 0h160v-160H620v160ZM180-180h160v-160H180v160Zm440 0h160v-160H620v160Z\"/>\n",
              "  </svg>\n",
              "    </button>\n",
              "\n",
              "  <style>\n",
              "    .colab-df-container {\n",
              "      display:flex;\n",
              "      gap: 12px;\n",
              "    }\n",
              "\n",
              "    .colab-df-convert {\n",
              "      background-color: #E8F0FE;\n",
              "      border: none;\n",
              "      border-radius: 50%;\n",
              "      cursor: pointer;\n",
              "      display: none;\n",
              "      fill: #1967D2;\n",
              "      height: 32px;\n",
              "      padding: 0 0 0 0;\n",
              "      width: 32px;\n",
              "    }\n",
              "\n",
              "    .colab-df-convert:hover {\n",
              "      background-color: #E2EBFA;\n",
              "      box-shadow: 0px 1px 2px rgba(60, 64, 67, 0.3), 0px 1px 3px 1px rgba(60, 64, 67, 0.15);\n",
              "      fill: #174EA6;\n",
              "    }\n",
              "\n",
              "    .colab-df-buttons div {\n",
              "      margin-bottom: 4px;\n",
              "    }\n",
              "\n",
              "    [theme=dark] .colab-df-convert {\n",
              "      background-color: #3B4455;\n",
              "      fill: #D2E3FC;\n",
              "    }\n",
              "\n",
              "    [theme=dark] .colab-df-convert:hover {\n",
              "      background-color: #434B5C;\n",
              "      box-shadow: 0px 1px 3px 1px rgba(0, 0, 0, 0.15);\n",
              "      filter: drop-shadow(0px 1px 2px rgba(0, 0, 0, 0.3));\n",
              "      fill: #FFFFFF;\n",
              "    }\n",
              "  </style>\n",
              "\n",
              "    <script>\n",
              "      const buttonEl =\n",
              "        document.querySelector('#df-ef2e9bca-a600-4fd6-b226-286d8ca5754d button.colab-df-convert');\n",
              "      buttonEl.style.display =\n",
              "        google.colab.kernel.accessAllowed ? 'block' : 'none';\n",
              "\n",
              "      async function convertToInteractive(key) {\n",
              "        const element = document.querySelector('#df-ef2e9bca-a600-4fd6-b226-286d8ca5754d');\n",
              "        const dataTable =\n",
              "          await google.colab.kernel.invokeFunction('convertToInteractive',\n",
              "                                                    [key], {});\n",
              "        if (!dataTable) return;\n",
              "\n",
              "        const docLinkHtml = 'Like what you see? Visit the ' +\n",
              "          '<a target=\"_blank\" href=https://colab.research.google.com/notebooks/data_table.ipynb>data table notebook</a>'\n",
              "          + ' to learn more about interactive tables.';\n",
              "        element.innerHTML = '';\n",
              "        dataTable['output_type'] = 'display_data';\n",
              "        await google.colab.output.renderOutput(dataTable, element);\n",
              "        const docLink = document.createElement('div');\n",
              "        docLink.innerHTML = docLinkHtml;\n",
              "        element.appendChild(docLink);\n",
              "      }\n",
              "    </script>\n",
              "  </div>\n",
              "\n",
              "    </div>\n",
              "  </div>\n"
            ]
          },
          "metadata": {},
          "execution_count": 37
        }
      ]
    },
    {
      "cell_type": "markdown",
      "source": [
        "Now let's look at how JIT compares"
      ],
      "metadata": {
        "id": "HIi0MIHR1msQ"
      }
    },
    {
      "cell_type": "code",
      "source": [
        "@jit\n",
        "def jax_jit_operations(data):\n",
        "    a = jnp.sum(data['A'])\n",
        "    b = jnp.mean(data['B'])\n",
        "    c = jnp.max(data['C'])\n",
        "    return a, b, c\n",
        "\n",
        "jax_jit_time = timeit.timeit(lambda: jax_jit_operations(data), number=100)"
      ],
      "metadata": {
        "id": "yQpZMdEG1m_7"
      },
      "execution_count": 38,
      "outputs": []
    },
    {
      "cell_type": "code",
      "source": [
        "# Display timing results\n",
        "time_df = pd.DataFrame({\n",
        "    'Operation': ['Total time'],\n",
        "    'NumPy': numpy_time,\n",
        "    'Pandas': pandas_time,\n",
        "    'JAX': jax_time,\n",
        "    'JAX with JIT': jax_jit_time,\n",
        "})\n",
        "\n",
        "time_df"
      ],
      "metadata": {
        "colab": {
          "base_uri": "https://localhost:8080/",
          "height": 81
        },
        "id": "PZSg3GeZ2L6s",
        "outputId": "07f235e0-c000-4da8-c5bb-1f0e51163e67"
      },
      "execution_count": 39,
      "outputs": [
        {
          "output_type": "execute_result",
          "data": {
            "text/plain": [
              "    Operation     NumPy    Pandas       JAX  JAX with JIT\n",
              "0  Total time  0.182291  0.875292  0.430037      0.784259"
            ],
            "text/html": [
              "\n",
              "  <div id=\"df-159559bd-f83b-42d1-b397-6e9a0a179310\" class=\"colab-df-container\">\n",
              "    <div>\n",
              "<style scoped>\n",
              "    .dataframe tbody tr th:only-of-type {\n",
              "        vertical-align: middle;\n",
              "    }\n",
              "\n",
              "    .dataframe tbody tr th {\n",
              "        vertical-align: top;\n",
              "    }\n",
              "\n",
              "    .dataframe thead th {\n",
              "        text-align: right;\n",
              "    }\n",
              "</style>\n",
              "<table border=\"1\" class=\"dataframe\">\n",
              "  <thead>\n",
              "    <tr style=\"text-align: right;\">\n",
              "      <th></th>\n",
              "      <th>Operation</th>\n",
              "      <th>NumPy</th>\n",
              "      <th>Pandas</th>\n",
              "      <th>JAX</th>\n",
              "      <th>JAX with JIT</th>\n",
              "    </tr>\n",
              "  </thead>\n",
              "  <tbody>\n",
              "    <tr>\n",
              "      <th>0</th>\n",
              "      <td>Total time</td>\n",
              "      <td>0.182291</td>\n",
              "      <td>0.875292</td>\n",
              "      <td>0.430037</td>\n",
              "      <td>0.784259</td>\n",
              "    </tr>\n",
              "  </tbody>\n",
              "</table>\n",
              "</div>\n",
              "    <div class=\"colab-df-buttons\">\n",
              "\n",
              "  <div class=\"colab-df-container\">\n",
              "    <button class=\"colab-df-convert\" onclick=\"convertToInteractive('df-159559bd-f83b-42d1-b397-6e9a0a179310')\"\n",
              "            title=\"Convert this dataframe to an interactive table.\"\n",
              "            style=\"display:none;\">\n",
              "\n",
              "  <svg xmlns=\"http://www.w3.org/2000/svg\" height=\"24px\" viewBox=\"0 -960 960 960\">\n",
              "    <path d=\"M120-120v-720h720v720H120Zm60-500h600v-160H180v160Zm220 220h160v-160H400v160Zm0 220h160v-160H400v160ZM180-400h160v-160H180v160Zm440 0h160v-160H620v160ZM180-180h160v-160H180v160Zm440 0h160v-160H620v160Z\"/>\n",
              "  </svg>\n",
              "    </button>\n",
              "\n",
              "  <style>\n",
              "    .colab-df-container {\n",
              "      display:flex;\n",
              "      gap: 12px;\n",
              "    }\n",
              "\n",
              "    .colab-df-convert {\n",
              "      background-color: #E8F0FE;\n",
              "      border: none;\n",
              "      border-radius: 50%;\n",
              "      cursor: pointer;\n",
              "      display: none;\n",
              "      fill: #1967D2;\n",
              "      height: 32px;\n",
              "      padding: 0 0 0 0;\n",
              "      width: 32px;\n",
              "    }\n",
              "\n",
              "    .colab-df-convert:hover {\n",
              "      background-color: #E2EBFA;\n",
              "      box-shadow: 0px 1px 2px rgba(60, 64, 67, 0.3), 0px 1px 3px 1px rgba(60, 64, 67, 0.15);\n",
              "      fill: #174EA6;\n",
              "    }\n",
              "\n",
              "    .colab-df-buttons div {\n",
              "      margin-bottom: 4px;\n",
              "    }\n",
              "\n",
              "    [theme=dark] .colab-df-convert {\n",
              "      background-color: #3B4455;\n",
              "      fill: #D2E3FC;\n",
              "    }\n",
              "\n",
              "    [theme=dark] .colab-df-convert:hover {\n",
              "      background-color: #434B5C;\n",
              "      box-shadow: 0px 1px 3px 1px rgba(0, 0, 0, 0.15);\n",
              "      filter: drop-shadow(0px 1px 2px rgba(0, 0, 0, 0.3));\n",
              "      fill: #FFFFFF;\n",
              "    }\n",
              "  </style>\n",
              "\n",
              "    <script>\n",
              "      const buttonEl =\n",
              "        document.querySelector('#df-159559bd-f83b-42d1-b397-6e9a0a179310 button.colab-df-convert');\n",
              "      buttonEl.style.display =\n",
              "        google.colab.kernel.accessAllowed ? 'block' : 'none';\n",
              "\n",
              "      async function convertToInteractive(key) {\n",
              "        const element = document.querySelector('#df-159559bd-f83b-42d1-b397-6e9a0a179310');\n",
              "        const dataTable =\n",
              "          await google.colab.kernel.invokeFunction('convertToInteractive',\n",
              "                                                    [key], {});\n",
              "        if (!dataTable) return;\n",
              "\n",
              "        const docLinkHtml = 'Like what you see? Visit the ' +\n",
              "          '<a target=\"_blank\" href=https://colab.research.google.com/notebooks/data_table.ipynb>data table notebook</a>'\n",
              "          + ' to learn more about interactive tables.';\n",
              "        element.innerHTML = '';\n",
              "        dataTable['output_type'] = 'display_data';\n",
              "        await google.colab.output.renderOutput(dataTable, element);\n",
              "        const docLink = document.createElement('div');\n",
              "        docLink.innerHTML = docLinkHtml;\n",
              "        element.appendChild(docLink);\n",
              "      }\n",
              "    </script>\n",
              "  </div>\n",
              "\n",
              "    </div>\n",
              "  </div>\n"
            ]
          },
          "metadata": {},
          "execution_count": 39
        }
      ]
    }
  ]
}